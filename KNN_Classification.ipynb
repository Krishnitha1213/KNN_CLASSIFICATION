{
  "cells": [
    {
      "cell_type": "code",
      "execution_count": null,
      "id": "e65e074b",
      "metadata": {
        "id": "e65e074b"
      },
      "outputs": [],
      "source": [
        "import numpy as np\n",
        "import pandas as pd\n",
        "import matplotlib.pyplot as plt\n",
        "import seaborn as sns\n",
        "import os\n",
        "from sklearn.metrics import confusion_matrix\n",
        "from sklearn.model_selection import train_test_split\n"
      ]
    },
    {
      "cell_type": "code",
      "execution_count": null,
      "id": "ba986331",
      "metadata": {
        "id": "ba986331",
        "outputId": "86530d1b-c83f-4350-f45a-f15eb98ed194"
      },
      "outputs": [
        {
          "name": "stdout",
          "output_type": "stream",
          "text": [
            "      User ID  Gender  Age  EstimatedSalary  Purchased\n",
            "0    11021175    Male   42           121315          0\n",
            "1    17782313    Male   53            67214          0\n",
            "2    14603818  Female   59           111005          0\n",
            "3    18188198  Female   39            53414          0\n",
            "4    19357305    Male   39           114285          0\n",
            "..        ...     ...  ...              ...        ...\n",
            "395  10220446  Female   20           141231          1\n",
            "396  12387292    Male   50            75848          1\n",
            "397  10715173  Female   25            82560          1\n",
            "398  10016842    Male   55           147667          0\n",
            "399  11699655  Female   54           134972          1\n",
            "\n",
            "[400 rows x 5 columns]\n"
          ]
        }
      ],
      "source": [
        "\n"
      ]
    },
    {
      "cell_type": "code",
      "execution_count": null,
      "id": "7da956c3",
      "metadata": {
        "id": "7da956c3",
        "outputId": "fcd78451-2322-44a0-dcca-099f3f247d2b"
      },
      "outputs": [
        {
          "name": "stdout",
          "output_type": "stream",
          "text": [
            "<class 'pandas.core.frame.DataFrame'>\n",
            "RangeIndex: 400 entries, 0 to 399\n",
            "Data columns (total 5 columns):\n",
            " #   Column           Non-Null Count  Dtype \n",
            "---  ------           --------------  ----- \n",
            " 0   User ID          400 non-null    int64 \n",
            " 1   Gender           400 non-null    object\n",
            " 2   Age              400 non-null    int64 \n",
            " 3   EstimatedSalary  400 non-null    int64 \n",
            " 4   Purchased        400 non-null    int64 \n",
            "dtypes: int64(4), object(1)\n",
            "memory usage: 15.8+ KB\n",
            "None\n"
          ]
        }
      ],
      "source": [
        "print (df1.info())"
      ]
    },
    {
      "cell_type": "code",
      "execution_count": null,
      "id": "ca2785d9",
      "metadata": {
        "id": "ca2785d9",
        "outputId": "36934057-588e-49de-e535-ae3798fd5f59"
      },
      "outputs": [
        {
          "name": "stdout",
          "output_type": "stream",
          "text": [
            "[[    42 121315]\n",
            " [    53  67214]\n",
            " [    59 111005]\n",
            " [    39  53414]\n",
            " [    39 114285]\n",
            " [    39 107458]\n",
            " [    20  85582]\n",
            " [    59 148335]\n",
            " [    48  80579]\n",
            " [    42 114204]\n",
            " [    32  87786]\n",
            " [    49 113544]\n",
            " [    55  88300]\n",
            " [    54 147066]\n",
            " [    57 139622]\n",
            " [    41 134716]\n",
            " [    51 116333]\n",
            " [    55  72567]\n",
            " [    44 123254]\n",
            " [    47 113548]\n",
            " [    52  79343]\n",
            " [    20 106149]\n",
            " [    40  59674]\n",
            " [    52  76333]\n",
            " [    28 118742]\n",
            " [    22 105897]\n",
            " [    25 114815]\n",
            " [    38  85428]\n",
            " [    57 114005]\n",
            " [    57 133402]\n",
            " [    43 106726]\n",
            " [    35  84550]\n",
            " [    34  96296]\n",
            " [    32  68964]\n",
            " [    55  90946]\n",
            " [    48  51787]\n",
            " [    22  53940]\n",
            " [    42 138928]\n",
            " [    59 116474]\n",
            " [    23  97284]\n",
            " [    40 132951]\n",
            " [    24 119308]\n",
            " [    50 120675]\n",
            " [    41 113547]\n",
            " [    52 102686]\n",
            " [    34 140262]\n",
            " [    20  54075]\n",
            " [    25  63715]\n",
            " [    46  56058]\n",
            " [    58  65052]\n",
            " [    38  72107]\n",
            " [    21 108656]\n",
            " [    42 120639]\n",
            " [    31  68033]\n",
            " [    26  80283]\n",
            " [    47  60952]\n",
            " [    31 123137]\n",
            " [    36  98529]\n",
            " [    25 121301]\n",
            " [    28  61144]\n",
            " [    41 107405]\n",
            " [    32  87032]\n",
            " [    53 118544]\n",
            " [    38  63743]\n",
            " [    43  53404]\n",
            " [    34  88672]\n",
            " [    29  96164]\n",
            " [    47 123288]\n",
            " [    31 122623]\n",
            " [    31  78696]\n",
            " [    51 142525]\n",
            " [    59  87656]\n",
            " [    29 142587]\n",
            " [    25 136561]\n",
            " [    59 146860]\n",
            " [    60 142362]\n",
            " [    35  69596]\n",
            " [    26  68131]\n",
            " [    36 110448]\n",
            " [    23  83386]\n",
            " [    58 108578]\n",
            " [    30 141388]\n",
            " [    43 149365]\n",
            " [    56  58313]\n",
            " [    51 102619]\n",
            " [    28  55147]\n",
            " [    41  50075]\n",
            " [    34 107704]\n",
            " [    43 114836]\n",
            " [    47 121827]\n",
            " [    34  81442]\n",
            " [    34 107339]\n",
            " [    26 112221]\n",
            " [    45  95625]\n",
            " [    57 122153]\n",
            " [    51  95670]\n",
            " [    34 143045]\n",
            " [    59 137848]\n",
            " [    36  52183]\n",
            " [    36  79634]\n",
            " [    23 113567]\n",
            " [    54 141579]\n",
            " [    37  65595]\n",
            " [    36 112290]\n",
            " [    34  81496]\n",
            " [    50 149336]\n",
            " [    40  75308]\n",
            " [    52 100654]\n",
            " [    41 126711]\n",
            " [    40 108120]\n",
            " [    49 105753]\n",
            " [    20 136968]\n",
            " [    24  93042]\n",
            " [    28 123123]\n",
            " [    20  82371]\n",
            " [    23 124432]\n",
            " [    39  77263]\n",
            " [    42  74062]\n",
            " [    56  66914]\n",
            " [    20 135880]\n",
            " [    56 141015]\n",
            " [    47  56095]\n",
            " [    54 105953]\n",
            " [    31 134226]\n",
            " [    40 140382]\n",
            " [    52  83150]\n",
            " [    43 134224]\n",
            " [    45  56858]\n",
            " [    58  78749]\n",
            " [    30  85067]\n",
            " [    32 126056]\n",
            " [    25 113954]\n",
            " [    48  95856]\n",
            " [    33  97459]\n",
            " [    47 135037]\n",
            " [    26 119179]\n",
            " [    54 149039]\n",
            " [    45  82604]\n",
            " [    58 141603]\n",
            " [    54  78694]\n",
            " [    57 124533]\n",
            " [    50 131911]\n",
            " [    41  59001]\n",
            " [    46 121055]\n",
            " [    56 129867]\n",
            " [    29  92841]\n",
            " [    30  52952]\n",
            " [    37 110760]\n",
            " [    26 118184]\n",
            " [    33 112314]\n",
            " [    41  89916]\n",
            " [    30 121311]\n",
            " [    35  89632]\n",
            " [    45 100855]\n",
            " [    43  65553]\n",
            " [    54  53506]\n",
            " [    52  52428]\n",
            " [    58  82785]\n",
            " [    30  53649]\n",
            " [    22  87705]\n",
            " [    52  89220]\n",
            " [    46 144559]\n",
            " [    56 100871]\n",
            " [    25 144076]\n",
            " [    22  92835]\n",
            " [    42 143855]\n",
            " [    40 134666]\n",
            " [    58  60780]\n",
            " [    38  71907]\n",
            " [    53 117339]\n",
            " [    24  59930]\n",
            " [    45  81582]\n",
            " [    43 105079]\n",
            " [    54  89483]\n",
            " [    30 101011]\n",
            " [    24  63875]\n",
            " [    43  78367]\n",
            " [    34  98157]\n",
            " [    21  67195]\n",
            " [    27  60011]\n",
            " [    43  85692]\n",
            " [    31 122030]\n",
            " [    35 111404]\n",
            " [    51 112365]\n",
            " [    24 145116]\n",
            " [    53  84777]\n",
            " [    24 117799]\n",
            " [    49 123887]\n",
            " [    37 110617]\n",
            " [    39  66443]\n",
            " [    28  74078]\n",
            " [    34  53024]\n",
            " [    45  60629]\n",
            " [    38  96053]\n",
            " [    37 115700]\n",
            " [    32 149553]\n",
            " [    22  54897]\n",
            " [    57 106814]\n",
            " [    26  82215]\n",
            " [    34  97989]\n",
            " [    34 129656]\n",
            " [    48  54293]\n",
            " [    41 115121]\n",
            " [    47  58050]\n",
            " [    32 106526]\n",
            " [    31  66259]\n",
            " [    56 114193]\n",
            " [    32  93654]\n",
            " [    30  90905]\n",
            " [    32  87630]\n",
            " [    23  57412]\n",
            " [    35 138992]\n",
            " [    55  79423]\n",
            " [    23  58900]\n",
            " [    32  79811]\n",
            " [    42  73731]\n",
            " [    45  97845]\n",
            " [    46 124974]\n",
            " [    25 126831]\n",
            " [    29 129796]\n",
            " [    44 113742]\n",
            " [    46 140395]\n",
            " [    33  96753]\n",
            " [    25  73636]\n",
            " [    54 131776]\n",
            " [    53 115173]\n",
            " [    23 132989]\n",
            " [    55  78749]\n",
            " [    26 114306]\n",
            " [    29 144160]\n",
            " [    59  73810]\n",
            " [    45  69716]\n",
            " [    52 103076]\n",
            " [    31 120701]\n",
            " [    43  88766]\n",
            " [    51 145365]\n",
            " [    39 100402]\n",
            " [    33 133440]\n",
            " [    28  79496]\n",
            " [    42  59216]\n",
            " [    23  59666]\n",
            " [    28  96148]\n",
            " [    57 104693]\n",
            " [    38 125226]\n",
            " [    25  64832]\n",
            " [    44 147276]\n",
            " [    36  51894]\n",
            " [    46  87539]\n",
            " [    44 123166]\n",
            " [    58  80730]\n",
            " [    52  61880]\n",
            " [    55  55940]\n",
            " [    36  83172]\n",
            " [    57  62224]\n",
            " [    29  85752]\n",
            " [    21  92044]\n",
            " [    58 114689]\n",
            " [    25  75753]\n",
            " [    39 147108]\n",
            " [    27 116149]\n",
            " [    41  76066]\n",
            " [    28 139815]\n",
            " [    51  89365]\n",
            " [    30  96984]\n",
            " [    45  83469]\n",
            " [    43 123902]\n",
            " [    31 103674]\n",
            " [    25 149284]\n",
            " [    55 101685]\n",
            " [    29  84375]\n",
            " [    59  80400]\n",
            " [    35 116617]\n",
            " [    48  63697]\n",
            " [    23 125328]\n",
            " [    31 115264]\n",
            " [    22  52203]\n",
            " [    55  79300]\n",
            " [    24 118146]\n",
            " [    45 118915]\n",
            " [    32 145807]\n",
            " [    25  89964]\n",
            " [    57 100193]\n",
            " [    59  51243]\n",
            " [    59  96999]\n",
            " [    51 120749]\n",
            " [    47  90983]\n",
            " [    38  66879]\n",
            " [    59  56930]\n",
            " [    60  74753]\n",
            " [    24 142544]\n",
            " [    56  71895]\n",
            " [    39 138840]\n",
            " [    36  73233]\n",
            " [    37 144858]\n",
            " [    37 137622]\n",
            " [    20  61919]\n",
            " [    59  83724]\n",
            " [    50 114793]\n",
            " [    51 117179]\n",
            " [    60  64051]\n",
            " [    35  56687]\n",
            " [    57 101429]\n",
            " [    43  74931]\n",
            " [    27  71384]\n",
            " [    30 130926]\n",
            " [    22 111072]\n",
            " [    57 137143]\n",
            " [    37  65536]\n",
            " [    25  89304]\n",
            " [    23 140900]\n",
            " [    50 136552]\n",
            " [    54  75491]\n",
            " [    52  71429]\n",
            " [    59  81753]\n",
            " [    44  95919]\n",
            " [    47 108041]\n",
            " [    29  83561]\n",
            " [    47 118252]\n",
            " [    52  74847]\n",
            " [    25  58866]\n",
            " [    38  64972]\n",
            " [    20  64957]\n",
            " [    22 111361]\n",
            " [    43  91205]\n",
            " [    41  65781]\n",
            " [    32 126318]\n",
            " [    23 140167]\n",
            " [    28  94239]\n",
            " [    52 125189]\n",
            " [    52  63103]\n",
            " [    40 107099]\n",
            " [    49  59438]\n",
            " [    36 134882]\n",
            " [    28  58789]\n",
            " [    37 145025]\n",
            " [    22 146149]\n",
            " [    31 127446]\n",
            " [    39  83401]\n",
            " [    21 123460]\n",
            " [    51  64207]\n",
            " [    49 128666]\n",
            " [    48 120137]\n",
            " [    28  80299]\n",
            " [    30 104548]\n",
            " [    24 138809]\n",
            " [    42 130324]\n",
            " [    59 139963]\n",
            " [    60  72905]\n",
            " [    51  52093]\n",
            " [    36 119778]\n",
            " [    33  86617]\n",
            " [    29  69997]\n",
            " [    21  89174]\n",
            " [    44 143222]\n",
            " [    29 130705]\n",
            " [    59  80220]\n",
            " [    28 119752]\n",
            " [    21  76043]\n",
            " [    44 145967]\n",
            " [    25  79824]\n",
            " [    43  89982]\n",
            " [    46 147530]\n",
            " [    36  60575]\n",
            " [    43  78098]\n",
            " [    55  81409]\n",
            " [    28  70948]\n",
            " [    50 104297]\n",
            " [    48 127871]\n",
            " [    33 126297]\n",
            " [    24 110968]\n",
            " [    53  91670]\n",
            " [    39  91484]\n",
            " [    38  79015]\n",
            " [    47 105738]\n",
            " [    60 149376]\n",
            " [    32 132339]\n",
            " [    55  65263]\n",
            " [    43 121151]\n",
            " [    55 143658]\n",
            " [    39 107871]\n",
            " [    35  88727]\n",
            " [    55  78055]\n",
            " [    36  58593]\n",
            " [    27  62004]\n",
            " [    51  99881]\n",
            " [    42  72411]\n",
            " [    47  91721]\n",
            " [    34 140775]\n",
            " [    35  79146]\n",
            " [    58 128623]\n",
            " [    25 128311]\n",
            " [    23  72896]\n",
            " [    57 115969]\n",
            " [    28 111173]\n",
            " [    41 107820]\n",
            " [    20 141231]\n",
            " [    50  75848]\n",
            " [    25  82560]\n",
            " [    55 147667]\n",
            " [    54 134972]]\n"
          ]
        }
      ],
      "source": [
        "x= df1.iloc [:,2:4].values\n",
        "print (x)\n"
      ]
    },
    {
      "cell_type": "code",
      "execution_count": null,
      "id": "3f27c1c6",
      "metadata": {
        "id": "3f27c1c6",
        "outputId": "37f86c18-5812-4e65-c3c2-73db81fcefed"
      },
      "outputs": [
        {
          "name": "stdout",
          "output_type": "stream",
          "text": [
            "[0 0 0 0 0 0 0 1 0 0 0 0 0 0 0 0 1 1 1 1 1 1 1 1 1 1 1 1 0 0 0 1 0 0 0 0 0\n",
            " 0 0 0 0 0 0 0 0 0 0 0 1 0 0 0 0 0 0 0 0 0 0 0 0 0 0 1 0 0 0 0 0 0 0 0 0 0\n",
            " 0 1 0 0 0 0 0 0 0 0 0 1 0 0 0 0 0 0 0 0 0 0 0 1 0 0 0 0 0 1 0 0 0 0 0 0 0\n",
            " 0 0 0 0 0 0 0 0 0 0 0 0 0 0 0 0 0 0 0 0 0 0 0 0 0 0 1 0 0 0 0 0 0 0 0 1 0\n",
            " 0 0 0 0 0 0 0 0 0 0 0 1 1 0 0 0 0 0 0 0 1 0 0 0 0 0 0 0 0 0 0 0 0 0 1 0 0\n",
            " 0 0 0 0 0 0 0 0 0 0 0 0 0 0 0 0 0 1 0 1 0 1 0 1 0 1 1 0 0 0 1 0 0 0 1 0 1\n",
            " 1 1 0 0 1 1 0 1 1 0 1 1 0 1 0 0 0 1 1 0 1 1 0 1 0 1 0 1 0 0 1 1 0 1 0 0 1\n",
            " 1 0 1 1 0 1 1 0 0 1 0 0 1 1 1 1 1 0 1 1 1 1 0 1 1 0 1 0 1 0 1 1 1 1 0 0 0\n",
            " 1 1 0 1 1 1 1 1 0 0 0 1 1 0 0 1 0 1 0 1 1 0 1 0 1 1 0 1 1 0 0 0 1 1 0 1 0\n",
            " 0 1 0 1 0 0 1 1 0 0 1 1 0 1 1 0 0 1 0 1 0 1 1 1 0 1 0 1 1 1 0 1 1 1 1 0 1\n",
            " 1 1 0 1 0 1 0 0 1 1 0 1 1 1 1 1 1 0 1 1 1 1 1 1 0 1 1 1 0 1]\n"
          ]
        }
      ],
      "source": [
        "y = df1.iloc[:,4].values\n",
        "print (y)\n"
      ]
    },
    {
      "cell_type": "code",
      "execution_count": null,
      "id": "884e5d22",
      "metadata": {
        "id": "884e5d22",
        "outputId": "962d3995-9911-4ffd-b8da-1a9cd9e0c36f"
      },
      "outputs": [
        {
          "data": {
            "image/png": "[encoded data removed]",
            "text/plain": [
              "<Figure size 640x480 with 1 Axes>"
            ]
          },
          "metadata": {},
          "output_type": "display_data"
        }
      ],
      "source": [
        "plt.scatter (x[y == 0,0],x[y == 0,1] ,s = 100, c='r', label = 'Cluster 1')\n",
        "plt.scatter (x[y == 1,0],x[y == 1,1] ,s = 100, c='b', label = 'Cluster 2')\n",
        "plt.show()\n"
      ]
    },
    {
      "cell_type": "code",
      "execution_count": null,
      "id": "43dd9b12",
      "metadata": {
        "id": "43dd9b12",
        "outputId": "8a7db8cd-58d2-4b5f-fd74-cbfad86180bd"
      },
      "outputs": [
        {
          "name": "stdout",
          "output_type": "stream",
          "text": [
            "[[ 0.17951354  0.76103154]\n",
            " [ 1.11315372 -1.14804259]\n",
            " [ 1.622412    0.39722026]\n",
            " [-0.0751156  -1.63500628]\n",
            " [-0.0751156   0.51296235]\n",
            " [-0.0751156   0.27205647]\n",
            " [-1.68776681 -0.49988685]\n",
            " [ 1.622412    1.71449234]\n",
            " [ 0.68877182 -0.67642883]\n",
            " [ 0.17951354  0.51010409]\n",
            " [-0.66925025 -0.42211381]\n",
            " [ 0.7736482   0.48681452]\n",
            " [ 1.28290648 -0.40397617]\n",
            " [ 1.1980301   1.66971285]\n",
            " [ 1.45265924  1.40703476]\n",
            " [ 0.09463716  1.23391563]\n",
            " [ 0.94340096  0.58523059]\n",
            " [ 1.28290648 -0.95915007]\n",
            " [ 0.3492663   0.82945347]\n",
            " [ 0.60389544  0.48695567]\n",
            " [ 1.02827734 -0.72004384]\n",
            " [-1.68776681  0.2258655 ]\n",
            " [ 0.00976078 -1.41410826]\n",
            " [ 1.02827734 -0.82625839]\n",
            " [-1.00875577  0.67023751]\n",
            " [-1.51801405  0.21697311]\n",
            " [-1.26338491  0.53166458]\n",
            " [-0.15999198 -0.50532108]\n",
            " [ 1.45265924  0.50308193]\n",
            " [ 1.45265924  1.18754822]\n",
            " [ 0.26438992  0.24622622]\n",
            " [-0.41462111 -0.53630326]\n",
            " [-0.49949749 -0.12181953]\n",
            " [-0.66925025 -1.08628994]\n",
            " [ 1.28290648 -0.31060618]\n",
            " [ 0.68877182 -1.6924186 ]\n",
            " [-1.51801405 -1.6164452 ]\n",
            " [ 0.17951354  1.38254542]\n",
            " [ 1.622412    0.59020609]\n",
            " [-1.43313767 -0.08695575]\n",
            " [ 0.00976078  1.17163368]\n",
            " [-1.34826129  0.69021008]\n",
            " [ 0.85852458  0.73844772]\n",
            " [ 0.09463716  0.48692038]\n",
            " [ 1.02827734  0.10366584]\n",
            " [-0.49949749  1.42961858]\n",
            " [-1.68776681 -1.61168143]\n",
            " [-1.26338491 -1.27151258]\n",
            " [ 0.51901906 -1.54170686]\n",
            " [ 1.53753562 -1.22433356]\n",
            " [-0.15999198 -0.9753822 ]\n",
            " [-1.60289043  0.31433057]\n",
            " [ 0.17951354  0.73717738]\n",
            " [-0.75412663 -1.11914235]\n",
            " [-1.17850853 -0.68687385]\n",
            " [ 0.60389544 -1.36901118]\n",
            " [-0.75412663  0.82532486]\n",
            " [-0.32974473 -0.04302315]\n",
            " [-1.26338491  0.76053752]\n",
            " [-1.00875577 -1.36223604]\n",
            " [ 0.09463716  0.27018625]\n",
            " [-0.66925025 -0.44872037]\n",
            " [ 1.11315372  0.66325064]\n",
            " [-0.15999198 -1.27052454]\n",
            " [ 0.26438992 -1.63535915]\n",
            " [-0.49949749 -0.39084932]\n",
            " [-0.92387939 -0.12647744]\n",
            " [ 0.60389544  0.83065323]\n",
            " [-0.75412663  0.80718723]\n",
            " [-0.75412663 -0.74287468]\n",
            " [ 0.94340096  1.50947357]\n",
            " [ 1.622412   -0.42670114]\n",
            " [-0.92387939  1.51166138]\n",
            " [-1.26338491  1.29902056]\n",
            " [ 1.622412    1.66244369]\n",
            " [ 1.70728837  1.50372175]\n",
            " [-0.41462111 -1.06398842]\n",
            " [-1.17850853 -1.1156842 ]\n",
            " [-0.32974473  0.37756527]\n",
            " [-1.43313767 -0.57737759]\n",
            " [ 1.53753562  0.31157816]\n",
            " [-0.83900301  1.46935199]\n",
            " [ 0.26438992  1.75083818]\n",
            " [ 1.36778286 -1.46213417]\n",
            " [ 0.94340096  0.10130159]\n",
            " [-1.00875577 -1.57385352]\n",
            " [ 0.09463716 -1.75283032]\n",
            " [-0.49949749  0.28073713]\n",
            " [ 0.26438992  0.53240561]\n",
            " [ 0.60389544  0.7790986 ]\n",
            " [-0.49949749 -0.64597596]\n",
            " [-0.49949749  0.26785729]\n",
            " [-1.17850853  0.44012952]\n",
            " [ 0.43414268 -0.14549725]\n",
            " [ 1.45265924  0.79060223]\n",
            " [ 0.94340096 -0.14390933]\n",
            " [-0.49949749  1.52782293]\n",
            " [ 1.622412    1.34443522]\n",
            " [-0.32974473 -1.67844485]\n",
            " [-0.32974473 -0.70977526]\n",
            " [-1.43313767  0.48762613]\n",
            " [ 1.1980301   1.47609185]\n",
            " [-0.24486835 -1.2051726 ]\n",
            " [-0.32974473  0.44256434]\n",
            " [-0.49949749 -0.64407045]\n",
            " [ 0.85852458  1.74981485]\n",
            " [ 0.00976078 -0.86242779]\n",
            " [ 1.02827734  0.0319622 ]\n",
            " [ 0.09463716  0.9514414 ]\n",
            " [ 0.00976078  0.29541661]\n",
            " [ 0.7736482   0.21189175]\n",
            " [-1.68776681  1.31338246]\n",
            " [-1.34826129 -0.23664415]\n",
            " [-1.00875577  0.82483084]\n",
            " [-1.68776681 -0.61319413]\n",
            " [-1.43313767  0.87102182]\n",
            " [-0.0751156  -0.79344127]\n",
            " [ 0.17951354 -0.90639567]\n",
            " [ 1.36778286 -1.15862875]\n",
            " [-1.68776681  1.27498996]\n",
            " [ 1.36778286  1.45618986]\n",
            " [ 0.60389544 -1.54040123]\n",
            " [ 1.1980301   0.2189492 ]\n",
            " [-0.75412663  1.21662489]\n",
            " [ 0.00976078  1.43385305]\n",
            " [ 1.02827734 -0.58570538]\n",
            " [ 0.26438992  1.21655432]\n",
            " [ 0.43414268 -1.51347708]\n",
            " [ 1.53753562 -0.74100445]\n",
            " [-0.83900301 -0.51805977]\n",
            " [-0.66925025  0.92832827]\n",
            " [-1.26338491  0.50128228]\n",
            " [ 0.68877182 -0.13734591]\n",
            " [-0.58437387 -0.08078048]\n",
            " [ 0.60389544  1.24524283]\n",
            " [-1.17850853  0.68565803]\n",
            " [ 1.1980301   1.73933455]\n",
            " [ 0.43414268 -0.6049722 ]\n",
            " [ 1.53753562  1.47693875]\n",
            " [ 1.1980301  -0.74294525]\n",
            " [ 1.45265924  0.87458583]\n",
            " [ 0.85852458  1.13493497]\n",
            " [ 0.09463716 -1.43785656]\n",
            " [ 0.51901906  0.75185686]\n",
            " [ 1.36778286  1.06280788]\n",
            " [-0.92387939 -0.24373689]\n",
            " [-0.83900301 -1.65130898]\n",
            " [-0.24486835  0.38857489]\n",
            " [-1.17850853  0.65054724]\n",
            " [-0.58437387  0.44341123]\n",
            " [ 0.09463716 -0.34695202]\n",
            " [-0.83900301  0.76089039]\n",
            " [-0.41462111 -0.35697359]\n",
            " [ 0.43414268  0.03905493]\n",
            " [ 0.26438992 -1.20665466]\n",
            " [ 1.1980301  -1.63175986]\n",
            " [ 1.02827734 -1.66979948]\n",
            " [ 1.53753562 -0.59858521]\n",
            " [-0.83900301 -1.62671378]\n",
            " [-1.51801405 -0.42497207]\n",
            " [ 1.02827734 -0.37151193]\n",
            " [ 0.51901906  1.58124778]\n",
            " [ 1.36778286  0.03961953]\n",
            " [-1.26338491  1.56420405]\n",
            " [-1.51801405 -0.24394861]\n",
            " [ 0.17951354  1.55640558]\n",
            " [ 0.00976078  1.23215127]\n",
            " [ 1.53753562 -1.37508059]\n",
            " [-0.15999198 -0.98243964]\n",
            " [ 1.11315372  0.62072954]\n",
            " [-1.34826129 -1.40507473]\n",
            " [ 0.43414268 -0.64103575]\n",
            " [ 0.26438992  0.18810817]\n",
            " [ 1.1980301  -0.36223139]\n",
            " [-0.83900301  0.04455974]\n",
            " [-1.34826129 -1.26586663]\n",
            " [ 0.26438992 -0.75448417]\n",
            " [-0.49949749 -0.05615   ]\n",
            " [-1.60289043 -1.14871304]\n",
            " [-1.09363215 -1.40221646]\n",
            " [ 0.26438992 -0.49600525]\n",
            " [-0.75412663  0.78626191]\n",
            " [-0.41462111  0.41129986]\n",
            " [ 0.94340096  0.44521088]\n",
            " [-1.34826129  1.60090277]\n",
            " [ 1.11315372 -0.52829306]\n",
            " [-1.34826129  0.63696166]\n",
            " [ 0.7736482   0.85179028]\n",
            " [-0.24486835  0.38352881]\n",
            " [-0.0751156  -1.17524904]\n",
            " [-1.00875577 -0.90583108]\n",
            " [-0.49949749 -1.6487683 ]\n",
            " [ 0.43414268 -1.38040896]\n",
            " [-0.15999198 -0.13039432]\n",
            " [-0.24486835  0.56289378]\n",
            " [-0.66925025  1.75747218]\n",
            " [-1.51801405 -1.58267533]\n",
            " [ 1.45265924  0.2493315 ]\n",
            " [-1.17850853 -0.61869893]\n",
            " [-0.49949749 -0.06207826]\n",
            " [-0.49949749  1.05536228]\n",
            " [ 0.68877182 -1.60398881]\n",
            " [ 0.09463716  0.54246247]\n",
            " [ 0.60389544 -1.47141471]\n",
            " [-0.66925025  0.23916878]\n",
            " [-0.75412663 -1.18174188]\n",
            " [ 1.36778286  0.50971593]\n",
            " [-0.66925025 -0.21504837]\n",
            " [-0.83900301 -0.31205295]\n",
            " [-0.66925025 -0.42761861]\n",
            " [-1.43313767 -1.49392796]\n",
            " [-0.41462111  1.3848038 ]\n",
            " [ 1.28290648 -0.71722086]\n",
            " [-1.43313767 -1.44142057]\n",
            " [-0.66925025 -0.70352942]\n",
            " [ 0.17951354 -0.91807574]\n",
            " [ 0.43414268 -0.06715962]\n",
            " [ 0.51901906  0.89014749]\n",
            " [-1.26338491  0.95567587]\n",
            " [-0.92387939  1.06030249]\n",
            " [ 0.3492663   0.49380139]\n",
            " [ 0.51901906  1.43431178]\n",
            " [-0.58437387 -0.10569326]\n",
            " [-1.26338491 -0.92142803]\n",
            " [ 1.1980301   1.13017119]\n",
            " [ 1.11315372  0.54429741]\n",
            " [-1.43313767  1.1729746 ]\n",
            " [ 1.28290648 -0.74100445]\n",
            " [-1.17850853  0.51370338]\n",
            " [-0.92387939  1.56716818]\n",
            " [ 1.622412   -0.91528805]\n",
            " [ 0.43414268 -1.05975395]\n",
            " [ 1.02827734  0.11742785]\n",
            " [-0.75412663  0.73936518]\n",
            " [ 0.26438992 -0.38753233]\n",
            " [ 0.94340096  1.60968929]\n",
            " [-0.0751156   0.02306982]\n",
            " [-0.58437387  1.18888914]\n",
            " [-1.00875577 -0.7146449 ]\n",
            " [ 0.17951354 -1.43026981]\n",
            " [-1.43313767 -1.41439055]\n",
            " [-1.00875577 -0.12704204]\n",
            " [ 1.45265924  0.1744873 ]\n",
            " [-0.15999198  0.89903987]\n",
            " [-1.26338491 -1.23209675]\n",
            " [ 0.3492663   1.67712317]\n",
            " [-0.32974473 -1.68864286]\n",
            " [ 0.51901906 -0.43082975]\n",
            " [ 0.3492663   0.82634819]\n",
            " [ 1.53753562 -0.67110046]\n",
            " [ 1.02827734 -1.33626464]\n",
            " [ 1.28290648 -1.54587075]\n",
            " [-0.32974473 -0.58492906]\n",
            " [ 1.45265924 -1.32412583]\n",
            " [-0.92387939 -0.49388802]\n",
            " [-1.60289043 -0.2718608 ]\n",
            " [ 1.53753562  0.52721839]\n",
            " [-1.26338491 -0.84672498]\n",
            " [-0.0751156   1.67119492]\n",
            " [-1.09363215  0.57873774]\n",
            " [ 0.09463716 -0.83568008]\n",
            " [-1.00875577  1.41384519]\n",
            " [ 0.94340096 -0.36639528]\n",
            " [-0.83900301 -0.09754192]\n",
            " [ 0.43414268 -0.57444875]\n",
            " [ 0.26438992  0.85231959]\n",
            " [-0.75412663  0.13852961]\n",
            " [-1.26338491  1.74797992]\n",
            " [ 1.28290648  0.06834333]\n",
            " [-0.92387939 -0.54247853]\n",
            " [ 1.622412   -0.68274524]\n",
            " [-0.41462111  0.59525216]\n",
            " [ 0.68877182 -1.27214775]\n",
            " [-1.43313767  0.90263917]\n",
            " [-0.75412663  0.54750855]\n",
            " [-1.51801405 -1.67773911]\n",
            " [ 1.28290648 -0.72156119]\n",
            " [-1.34826129  0.64920633]\n",
            " [ 0.43414268  0.6763422 ]\n",
            " [-0.66925025  1.62528624]\n",
            " [-1.26338491 -0.34525823]\n",
            " [ 1.45265924  0.01569479]\n",
            " [ 1.622412   -1.71161485]\n",
            " [ 1.622412   -0.09701261]\n",
            " [ 0.94340096  0.74105897]\n",
            " [ 0.60389544 -0.30930055]\n",
            " [-0.15999198 -1.15986381]\n",
            " [ 1.622412   -1.5109364 ]\n",
            " [ 1.70728837 -0.8820122 ]\n",
            " [-1.34826129  1.51014403]\n",
            " [ 1.36778286 -0.98286309]\n",
            " [-0.0751156   1.37944015]\n",
            " [-0.32974473 -0.93564878]\n",
            " [-0.24486835  1.59179866]\n",
            " [-0.24486835  1.33646031]\n",
            " [-1.68776681 -1.33488844]\n",
            " [ 1.622412   -0.56545051]\n",
            " [ 0.85852458  0.53088826]\n",
            " [ 0.94340096  0.61508358]\n",
            " [ 1.70728837 -1.25965608]\n",
            " [-0.41462111 -1.5195112 ]\n",
            " [ 1.45265924  0.0593098 ]\n",
            " [ 0.26438992 -0.87573107]\n",
            " [-1.09363215 -1.00089486]\n",
            " [-0.83900301  1.10017705]\n",
            " [-1.51801405  0.3995845 ]\n",
            " [ 1.45265924  1.31955773]\n",
            " [-0.24486835 -1.20725455]\n",
            " [-1.26338491 -0.3685478 ]\n",
            " [-1.43313767  1.45213183]\n",
            " [ 0.85852458  1.29870298]\n",
            " [ 1.1980301  -0.85597023]\n",
            " [ 1.02827734 -0.99930693]\n",
            " [ 1.622412   -0.63500163]\n",
            " [ 0.3492663  -0.13512281]\n",
            " [ 0.60389544  0.29262892]\n",
            " [-0.92387939 -0.57120233]\n",
            " [ 0.60389544  0.65294677]\n",
            " [ 1.02827734 -0.8786952 ]\n",
            " [-1.26338491 -1.44262033]\n",
            " [-0.15999198 -1.22715654]\n",
            " [-1.68776681 -1.22768585]\n",
            " [-1.51801405  0.40978251]\n",
            " [ 0.26438992 -0.30146679]\n",
            " [ 0.09463716 -1.19860918]\n",
            " [-0.66925025  0.93757352]\n",
            " [-1.43313767  1.42626629]\n",
            " [-1.00875577 -0.19440535]\n",
            " [ 1.02827734  0.89773425]\n",
            " [ 1.02827734 -1.29310836]\n",
            " [ 0.00976078  0.25938836]\n",
            " [ 0.7736482  -1.42243604]\n",
            " [-0.32974473  1.23977331]\n",
            " [-1.00875577 -1.44533745]\n",
            " [-0.24486835  1.59769163]\n",
            " [-1.51801405  1.63735447]\n",
            " [-0.75412663  0.97737751]\n",
            " [-0.0751156  -0.57684828]\n",
            " [-1.60289043  0.83672264]\n",
            " [ 0.94340096 -1.25415127]\n",
            " [ 0.7736482   1.02042793]\n",
            " [ 0.68877182  0.71946319]\n",
            " [-1.00875577 -0.68630925]\n",
            " [-0.83900301  0.16937065]\n",
            " [-1.34826129  1.37834624]\n",
            " [ 0.17951354  1.07893414]\n",
            " [ 1.622412    1.4190677 ]\n",
            " [ 1.70728837 -0.94722299]\n",
            " [ 0.94340096 -1.6816207 ]\n",
            " [-0.32974473  0.70679508]\n",
            " [-0.58437387 -0.46336457]\n",
            " [-0.92387939 -1.04983824]\n",
            " [-1.60289043 -0.37313514]\n",
            " [ 0.3492663   1.53406876]\n",
            " [-0.92387939  1.09237858]\n",
            " [ 1.622412   -0.68909695]\n",
            " [-1.00875577  0.70587761]\n",
            " [-1.60289043 -0.83649168]\n",
            " [ 0.3492663   1.63093219]\n",
            " [-1.26338491 -0.70307069]\n",
            " [ 0.26438992 -0.34462306]\n",
            " [ 0.51901906  1.68608613]\n",
            " [-0.32974473 -1.38231447]\n",
            " [ 0.26438992 -0.76397644]\n",
            " [ 1.28290648 -0.64714044]\n",
            " [-1.00875577 -1.01628009]\n",
            " [ 0.85852458  0.16051356]\n",
            " [ 0.68877182  0.99237458]\n",
            " [-0.58437387  0.93683249]\n",
            " [-1.34826129  0.39591463]\n",
            " [ 1.11315372 -0.28505823]\n",
            " [-0.0751156  -0.29162165]\n",
            " [-0.15999198 -0.73161805]\n",
            " [ 0.60389544  0.21136245]\n",
            " [ 1.70728837  1.75122634]\n",
            " [-0.66925025  1.1500379 ]\n",
            " [ 1.28290648 -1.21688796]\n",
            " [ 0.26438992  0.75524444]\n",
            " [ 1.28290648  1.54945399]\n",
            " [-0.0751156   0.2866301 ]\n",
            " [-0.41462111 -0.38890853]\n",
            " [ 1.28290648 -0.76549379]\n",
            " [-0.32974473 -1.45225375]\n",
            " [-1.09363215 -1.33188902]\n",
            " [ 0.94340096  0.00468517]\n",
            " [ 0.17951354 -0.96465488]\n",
            " [ 0.60389544 -0.28325858]\n",
            " [-0.49949749  1.44772093]\n",
            " [-0.41462111 -0.72699542]\n",
            " [ 1.53753562  1.01891058]\n",
            " [-1.26338491  1.00790096]\n",
            " [-1.43313767 -0.94754058]\n",
            " [ 1.45265924  0.57238604]\n",
            " [-1.00875577  0.40314851]\n",
            " [ 0.09463716  0.28483045]\n",
            " [-1.68776681  1.4638119 ]\n",
            " [ 0.85852458 -0.84337269]\n",
            " [-1.26338491 -0.60652484]\n",
            " [ 1.28290648  1.69092048]\n",
            " [ 1.1980301   1.24294916]]\n"
          ]
        }
      ],
      "source": [
        "from sklearn.preprocessing import StandardScaler\n",
        "sc_x= StandardScaler()\n",
        "x = sc_x.fit_transform(x)\n",
        "print (x)\n"
      ]
    },
    {
      "cell_type": "code",
      "execution_count": null,
      "id": "9a4ecec6",
      "metadata": {
        "id": "9a4ecec6",
        "outputId": "25dfc3fb-1ea8-450d-91c4-ae9481670db4"
      },
      "outputs": [
        {
          "name": "stdout",
          "output_type": "stream",
          "text": [
            "(400, 2)\n",
            "(320, 2)\n",
            "(80, 2)\n",
            "(320,)\n",
            "(80,)\n"
          ]
        }
      ],
      "source": [
        "x_train,x_test,y_train,y_test = train_test_split(x,y,test_size= 0.2)\n",
        "print (x.shape)\n",
        "print (x_train.shape)\n",
        "print (x_test.shape)\n",
        "print (y_train.shape)\n",
        "print (y_test.shape)\n"
      ]
    },
    {
      "cell_type": "code",
      "execution_count": null,
      "id": "0ffe0d1a",
      "metadata": {
        "id": "0ffe0d1a",
        "outputId": "6849c3a4-327f-4c5b-8631-af09762a7b6b"
      },
      "outputs": [
        {
          "data": {
            "text/plain": [
              "KNeighborsClassifier()"
            ]
          },
          "execution_count": 12,
          "metadata": {},
          "output_type": "execute_result"
        }
      ],
      "source": [
        "from sklearn.neighbors import KNeighborsClassifier\n",
        "KNN =  KNeighborsClassifier()\n",
        "KNN.fit (x_train , y_train)"
      ]
    },
    {
      "cell_type": "code",
      "execution_count": null,
      "id": "43a781e5",
      "metadata": {
        "id": "43a781e5",
        "outputId": "591bd524-d09e-4f5e-c21a-47d6917949d1"
      },
      "outputs": [
        {
          "name": "stdout",
          "output_type": "stream",
          "text": [
            "[0 0 1 0 1 0 0 0 1 0 0 0 0 0 0 0 0 0 0 0 0 0 0 0 0 0 0 1 0 0 0 0 0 0 1 0 0\n",
            " 1 1 0 0 0 1 0 0 1 1 0 0 1 0 0 1 0 0 0 0 0 0 0 0 0 0 0 0 0 0 0 1 0 1 0 0 0\n",
            " 0 0 1 0 1 1]\n"
          ]
        }
      ],
      "source": [
        "y_pred = KNN.predict(x_test)\n",
        "print (y_pred)\n"
      ]
    },
    {
      "cell_type": "code",
      "execution_count": null,
      "id": "9ce79f15",
      "metadata": {
        "id": "9ce79f15",
        "outputId": "1719e4cb-e2df-44ac-bfea-1f6701d13589"
      },
      "outputs": [
        {
          "data": {
            "text/plain": [
              "array([0, 0, 0, 0, 0, 0, 0, 0, 0, 1, 0, 0, 1, 0, 1, 1, 1, 1, 0, 0, 0, 1,\n",
              "       1, 0, 0, 0, 0, 0, 0, 1, 0, 0, 1, 1, 0, 0, 0, 0, 1, 1, 0, 0, 0, 0,\n",
              "       1, 0, 0, 1, 0, 1, 0, 1, 0, 0, 0, 1, 1, 0, 1, 0, 1, 0, 1, 0, 1, 0,\n",
              "       0, 1, 0, 0, 0, 1, 0, 1, 0, 0, 0, 1, 0, 0], dtype=int64)"
            ]
          },
          "execution_count": 14,
          "metadata": {},
          "output_type": "execute_result"
        }
      ],
      "source": [
        "y_test"
      ]
    },
    {
      "cell_type": "code",
      "execution_count": null,
      "id": "224e4e9b",
      "metadata": {
        "id": "224e4e9b",
        "outputId": "81353b93-d96c-449d-b736-aba7e4c142d0"
      },
      "outputs": [
        {
          "name": "stdout",
          "output_type": "stream",
          "text": [
            "[0 0 0 0 0 0 0 1 1 0 0 0 0 0 0 0 0 1 0 0 1 0 1 1 1 1 0 1 0 0 0 0 0 0 0 0 0\n",
            " 0 0 0 0 0 0 0 1 0 0 0 0 0 0 0 0 0 0 0 0 0 0 0 0 0 0 1 0 0 0 0 0 0 0 1 1 1\n",
            " 1 1 0 0 0 0 0 1 0 0 1 0 0 0 0 0 1 0 0 0 0 1 0 1 0 0 0 0 1 0 1 0 0 0 0 0 1\n",
            " 1 0 0 0 0 0 1 0 1 0 0 0 1 0 0 0 0 1 0 0 0 0 0 0 0 0 0 0 1 0 0 0 0 0 0 0 0\n",
            " 0 0 0 0 0 0 1 0 0 1 0 0 1 1 1 0 0 0 0 1 0 0 0 1 0 0 0 0 0 0 0 0 0 0 0 0 0\n",
            " 0 0 0 0 1 0 0 0 0 0 0 0 0 0 0 0 0 0 0 0 0 0 0 0 0 0 0 1 0 0 1 0 0 0 1 0 0\n",
            " 0 0 0 0 1 1 0 1 1 1 1 0 1 0 0 0 0 0 0 0 1 0 0 1 0 1 0 1 0 0 1 0 0 0 0 0 0\n",
            " 0 0 0 1 0 0 0 0 0 1 0 1 0 0 0 0 0 1 0 0 0 1 1 0 1 0 0 1 1 1 0 1 0 0 0 0 0\n",
            " 1 0 0 1 0 1 0 0 1 0 0 1 1 0 0 1 1 1 0 1 0 0 1 0 1 0 0 0 1 0 0 0 0 0 0 0 0\n",
            " 0 0 0 0 0 0 0 0 0 0 0 0 0 1 1 0 0 0 0 0 0 1 1 1 0 0 0 0 1 1 0 0 0 1 0 0 0\n",
            " 1 0 0 1 1 0 0 0 0 0 0 1 1 0 0 1 0 0 1 0 1 0 0 1 0 0 1 0 0 0]\n"
          ]
        }
      ],
      "source": [
        "y_pred = KNN.predict(x)\n",
        "print (y_pred)"
      ]
    },
    {
      "cell_type": "code",
      "execution_count": null,
      "id": "22ff0730",
      "metadata": {
        "id": "22ff0730",
        "outputId": "88a91a41-ff0d-420e-f1ba-f3757f28e0ad"
      },
      "outputs": [
        {
          "name": "stdout",
          "output_type": "stream",
          "text": [
            "     User ID  Gender  Age  EstimatedSalary  Purchased  Y Pred\n",
            "0   11021175    Male   42           121315          0       0\n",
            "1   17782313    Male   53            67214          0       0\n",
            "2   14603818  Female   59           111005          0       0\n",
            "3   18188198  Female   39            53414          0       0\n",
            "4   19357305    Male   39           114285          0       0\n",
            "5   19524602    Male   39           107458          0       0\n",
            "6   19455396  Female   20            85582          0       0\n",
            "7   16879913  Female   59           148335          1       1\n",
            "8   11838352    Male   48            80579          0       1\n",
            "9   13118940  Female   42           114204          0       0\n",
            "10  19524480  Female   32            87786          0       0\n",
            "11  12784093  Female   49           113544          0       0\n",
            "12  12895966    Male   55            88300          0       0\n",
            "13  14674114    Male   54           147066          0       0\n",
            "14  12393248    Male   57           139622          0       0\n",
            "15  18842131    Male   41           134716          0       0\n",
            "16  11060500    Male   51           116333          1       0\n",
            "17  14887406    Male   55            72567          1       1\n",
            "18  12606442    Male   44           123254          1       0\n",
            "19  17919323  Female   47           113548          1       0\n",
            "20  17207101    Male   52            79343          1       1\n",
            "21  17159912  Female   20           106149          1       0\n",
            "22  10718832    Male   40            59674          1       1\n",
            "23  16952550  Female   52            76333          1       1\n",
            "24  10494682    Male   28           118742          1       1\n",
            "25  16824758    Male   22           105897          1       1\n",
            "26  11168323    Male   25           114815          1       0\n",
            "27  16945283  Female   38            85428          1       1\n",
            "28  13865670    Male   57           114005          0       0\n",
            "29  16924204    Male   57           133402          0       0\n",
            "30  10877441    Male   43           106726          0       0\n",
            "31  16751398  Female   35            84550          1       0\n",
            "32  10393028  Female   34            96296          0       0\n",
            "33  18915643  Female   32            68964          0       0\n",
            "34  12430332    Male   55            90946          0       0\n",
            "35  16222500    Male   48            51787          0       0\n",
            "36  10179619  Female   22            53940          0       0\n",
            "37  19088014    Male   42           138928          0       0\n",
            "38  15101607  Female   59           116474          0       0\n",
            "39  11468592  Female   23            97284          0       0\n",
            "40  19207686  Female   40           132951          0       0\n",
            "41  16970151  Female   24           119308          0       0\n",
            "42  12111836    Male   50           120675          0       0\n",
            "43  19889978    Male   41           113547          0       0\n",
            "44  19252002  Female   52           102686          0       1\n",
            "45  15836350    Male   34           140262          0       0\n",
            "46  15448575    Male   20            54075          0       0\n",
            "47  16700977  Female   25            63715          0       0\n",
            "48  15363592    Male   46            56058          1       0\n",
            "49  19732707  Female   58            65052          0       0\n"
          ]
        }
      ],
      "source": [
        "df_ypred = pd.DataFrame(y_pred,columns = ['Y Pred'])\n",
        "result = pd.concat ([df1,df_ypred],axis = 1 )\n",
        "result.to_excel('C:\\\\Noble\\\\Training\\\\Acmegrade\\\\Data Science\\\\10 Dec 2022\\\\DS Day9\\\\KNN_Social_Network_Ads.xlsx')\n",
        "print (result.head(50))\n"
      ]
    },
    {
      "cell_type": "code",
      "execution_count": null,
      "id": "3d559b84",
      "metadata": {
        "id": "3d559b84",
        "outputId": "b1c7fc50-c342-4e1d-f70f-c73b10a343b7"
      },
      "outputs": [
        {
          "name": "stdout",
          "output_type": "stream",
          "text": [
            "     User ID  Gender  Age  EstimatedSalary  Purchased  Y Pred\n",
            "0   11021175    Male   42           121315          0       0\n",
            "1   17782313    Male   53            67214          0       0\n",
            "2   14603818  Female   59           111005          0       0\n",
            "3   18188198  Female   39            53414          0       0\n",
            "4   19357305    Male   39           114285          0       0\n",
            "5   19524602    Male   39           107458          0       0\n",
            "6   19455396  Female   20            85582          0       0\n",
            "7   16879913  Female   59           148335          1       1\n",
            "8   11838352    Male   48            80579          0       1\n",
            "9   13118940  Female   42           114204          0       0\n",
            "10  19524480  Female   32            87786          0       0\n",
            "11  12784093  Female   49           113544          0       0\n",
            "12  12895966    Male   55            88300          0       0\n",
            "13  14674114    Male   54           147066          0       0\n",
            "14  12393248    Male   57           139622          0       0\n",
            "15  18842131    Male   41           134716          0       0\n",
            "16  11060500    Male   51           116333          1       0\n",
            "17  14887406    Male   55            72567          1       1\n",
            "18  12606442    Male   44           123254          1       0\n",
            "19  17919323  Female   47           113548          1       0\n",
            "20  17207101    Male   52            79343          1       1\n",
            "21  17159912  Female   20           106149          1       0\n",
            "22  10718832    Male   40            59674          1       1\n",
            "23  16952550  Female   52            76333          1       1\n",
            "24  10494682    Male   28           118742          1       1\n",
            "25  16824758    Male   22           105897          1       1\n",
            "26  11168323    Male   25           114815          1       0\n",
            "27  16945283  Female   38            85428          1       1\n",
            "28  13865670    Male   57           114005          0       0\n",
            "29  16924204    Male   57           133402          0       0\n",
            "30  10877441    Male   43           106726          0       0\n",
            "31  16751398  Female   35            84550          1       0\n",
            "32  10393028  Female   34            96296          0       0\n",
            "33  18915643  Female   32            68964          0       0\n",
            "34  12430332    Male   55            90946          0       0\n",
            "35  16222500    Male   48            51787          0       0\n",
            "36  10179619  Female   22            53940          0       0\n",
            "37  19088014    Male   42           138928          0       0\n",
            "38  15101607  Female   59           116474          0       0\n",
            "39  11468592  Female   23            97284          0       0\n",
            "40  19207686  Female   40           132951          0       0\n",
            "41  16970151  Female   24           119308          0       0\n",
            "42  12111836    Male   50           120675          0       0\n",
            "43  19889978    Male   41           113547          0       0\n",
            "44  19252002  Female   52           102686          0       1\n",
            "45  15836350    Male   34           140262          0       0\n",
            "46  15448575    Male   20            54075          0       0\n",
            "47  16700977  Female   25            63715          0       0\n",
            "48  15363592    Male   46            56058          1       0\n",
            "49  19732707  Female   58            65052          0       0\n"
          ]
        }
      ],
      "source": [
        "df_ypred = pd.DataFrame(y_pred,columns = ['Y Pred'])\n",
        "result = pd.concat ([df1,df_ypred],axis = 1 )\n",
        "result.to_excel('C:/Noble/Training/Acmegrade/Data Science/10 Dec 2022/DS Day9/KNN_Social_Network_Ads.xlsx')\n",
        "print (result.head(50))"
      ]
    },
    {
      "cell_type": "code",
      "execution_count": null,
      "id": "e943b692",
      "metadata": {
        "id": "e943b692"
      },
      "outputs": [],
      "source": [
        "y_pred = KNN.predict (x_test)"
      ]
    },
    {
      "cell_type": "code",
      "execution_count": null,
      "id": "77733d64",
      "metadata": {
        "id": "77733d64",
        "outputId": "935498a2-93e7-4d20-9a06-32e9e852fb41"
      },
      "outputs": [
        {
          "name": "stdout",
          "output_type": "stream",
          "text": [
            "0.5\n"
          ]
        }
      ],
      "source": [
        "from sklearn.metrics import accuracy_score\n",
        "accuracy = accuracy_score (y_test,y_pred)\n",
        "print (accuracy)\n"
      ]
    },
    {
      "cell_type": "code",
      "execution_count": null,
      "id": "c5296c0d",
      "metadata": {
        "id": "c5296c0d",
        "outputId": "4a8f796e-2634-4796-dea0-23706d694536"
      },
      "outputs": [
        {
          "name": "stdout",
          "output_type": "stream",
          "text": [
            "0.695\n"
          ]
        }
      ],
      "source": [
        "y_pred = KNN.predict (x)\n",
        "from sklearn.metrics import accuracy_score\n",
        "accuracy = accuracy_score (y,y_pred)\n",
        "print (accuracy)\n"
      ]
    },
    {
      "cell_type": "code",
      "execution_count": null,
      "id": "96c0da4c",
      "metadata": {
        "id": "96c0da4c",
        "outputId": "3b003a41-0235-4f97-ae8b-176c407fc1c2"
      },
      "outputs": [
        {
          "name": "stdout",
          "output_type": "stream",
          "text": [
            "              precision    recall  f1-score   support\n",
            "\n",
            "           0       0.72      0.86      0.78       257\n",
            "           1       0.61      0.41      0.49       143\n",
            "\n",
            "    accuracy                           0.69       400\n",
            "   macro avg       0.67      0.63      0.64       400\n",
            "weighted avg       0.68      0.69      0.68       400\n",
            "\n"
          ]
        }
      ],
      "source": [
        "from sklearn.metrics import classification_report\n",
        "print(classification_report (y,y_pred, zero_division=0))\n"
      ]
    },
    {
      "cell_type": "code",
      "execution_count": null,
      "id": "8570ef62",
      "metadata": {
        "id": "8570ef62",
        "outputId": "74481cfc-c64a-45c6-cade-342e4b11ad3a"
      },
      "outputs": [
        {
          "name": "stdout",
          "output_type": "stream",
          "text": [
            "[[220  37]\n",
            " [ 85  58]]\n"
          ]
        }
      ],
      "source": [
        "cm = confusion_matrix (y,y_pred)\n",
        "print (cm)\n"
      ]
    },
    {
      "cell_type": "code",
      "execution_count": null,
      "id": "fd28d9b4",
      "metadata": {
        "id": "fd28d9b4",
        "outputId": "38675e8b-603b-46fa-e37a-765c3dbc8bf5"
      },
      "outputs": [
        {
          "data": {
            "text/plain": [
              "0.695"
            ]
          },
          "execution_count": 30,
          "metadata": {},
          "output_type": "execute_result"
        }
      ],
      "source": [
        "(220+58)/400"
      ]
    },
    {
      "cell_type": "code",
      "execution_count": null,
      "id": "cd3e9bfb",
      "metadata": {
        "id": "cd3e9bfb",
        "outputId": "fdf88635-6caa-42cf-aa20-1c14a7cc8d9e"
      },
      "outputs": [
        {
          "name": "stdout",
          "output_type": "stream",
          "text": [
            "KNeighborsClassifier(n_neighbors=1, p=1)\n"
          ]
        }
      ],
      "source": [
        "from sklearn.neighbors import KNeighborsClassifier\n",
        "KNN1 = KNeighborsClassifier(n_neighbors =1 , metric = 'minkowski', p= 1)\n",
        "KNN1.fit(x_train,y_train)\n",
        "print (KNN1)\n"
      ]
    },
    {
      "cell_type": "code",
      "execution_count": null,
      "id": "d23f008d",
      "metadata": {
        "id": "d23f008d",
        "outputId": "d8009f44-dc52-4391-95a2-676f0f906d81"
      },
      "outputs": [
        {
          "name": "stdout",
          "output_type": "stream",
          "text": [
            "[0 0 0 0 0 1 0 1 1 0 0 0 0 0 0 0 1 1 0 0 1 1 0 1 1 1 1 1 0 0 0 1 0 0 0 0 0\n",
            " 0 0 0 0 0 0 0 0 0 0 0 1 0 0 0 0 0 0 0 0 0 0 0 0 0 0 1 0 0 0 0 0 0 0 0 1 0\n",
            " 0 1 1 0 0 0 0 0 0 0 0 1 0 0 0 0 0 0 0 0 0 0 0 1 0 1 0 1 1 0 0 1 0 0 0 0 0\n",
            " 0 0 0 0 0 0 0 0 0 0 0 0 1 0 0 0 0 0 0 0 0 0 0 0 0 0 1 0 0 0 0 0 0 0 0 1 0\n",
            " 0 0 0 0 0 0 1 0 0 1 0 1 1 0 0 0 0 0 0 1 0 0 0 1 0 0 0 0 0 0 0 0 0 0 1 0 1\n",
            " 0 0 0 0 0 0 0 0 0 0 1 0 1 0 0 0 0 1 0 1 0 0 1 1 0 1 0 0 0 0 1 0 0 0 1 0 1\n",
            " 1 1 0 0 1 1 0 1 1 0 1 1 0 1 0 0 0 1 1 0 1 0 0 1 0 1 0 1 0 0 1 1 0 1 0 1 1\n",
            " 1 0 1 1 0 1 1 0 0 1 0 1 1 0 1 1 1 0 1 1 1 1 1 1 1 0 1 0 1 1 1 1 0 1 0 0 0\n",
            " 1 1 0 1 1 1 1 0 0 0 0 1 1 0 0 1 1 1 0 1 1 0 1 0 1 1 0 1 1 0 0 0 1 0 0 1 0\n",
            " 0 1 0 1 0 0 1 1 0 0 0 1 0 1 1 0 0 0 0 1 0 1 1 1 0 1 0 0 1 1 0 0 0 1 1 0 1\n",
            " 1 1 0 1 1 1 0 0 1 1 0 1 1 0 1 1 0 0 1 1 1 1 1 1 0 1 1 1 0 1]\n"
          ]
        }
      ],
      "source": [
        "y_pred = KNN1.predict(x)\n",
        "print (y_pred)\n"
      ]
    },
    {
      "cell_type": "code",
      "execution_count": null,
      "id": "43e30a26",
      "metadata": {
        "id": "43e30a26",
        "outputId": "5ecb4dec-5eea-4e6e-fb87-eb47431919cc"
      },
      "outputs": [
        {
          "name": "stdout",
          "output_type": "stream",
          "text": [
            "0.895\n"
          ]
        }
      ],
      "source": [
        "accuracy = accuracy_score (y,y_pred)\n",
        "print (accuracy)\n",
        "\n"
      ]
    },
    {
      "cell_type": "code",
      "execution_count": null,
      "id": "73bcdf20",
      "metadata": {
        "id": "73bcdf20",
        "outputId": "8740558c-d426-4339-9f40-3cb37ebc6beb"
      },
      "outputs": [
        {
          "name": "stdout",
          "output_type": "stream",
          "text": [
            "[[234  23]\n",
            " [ 19 124]]\n"
          ]
        }
      ],
      "source": [
        "cm = confusion_matrix (y,y_pred)\n",
        "print (cm)\n"
      ]
    },
    {
      "cell_type": "code",
      "execution_count": null,
      "id": "d28ba5bf",
      "metadata": {
        "id": "d28ba5bf",
        "outputId": "e447b8a9-8eb0-4892-c8f3-5ec77dc9381a"
      },
      "outputs": [
        {
          "data": {
            "image/png": "[encoded data removed]",
            "text/plain": [
              "<Figure size 640x480 with 1 Axes>"
            ]
          },
          "metadata": {},
          "output_type": "display_data"
        }
      ],
      "source": [
        "plt.scatter (x[y == 0,0],x[y == 0,1] ,s = 100, c='r', label = 'Cluster 1')\n",
        "plt.scatter (x[y == 1,0],x[y == 1,1] ,s = 100, c='b', label = 'Cluster 2')\n",
        "plt.show()\n"
      ]
    },
    {
      "cell_type": "code",
      "execution_count": null,
      "id": "e1653b96",
      "metadata": {
        "id": "e1653b96",
        "outputId": "a8f07cfd-b567-41d4-ea18-bc846071c853"
      },
      "outputs": [
        {
          "data": {
            "image/png": "[encoded data removed]",
            "text/plain": [
              "<Figure size 640x480 with 1 Axes>"
            ]
          },
          "metadata": {},
          "output_type": "display_data"
        }
      ],
      "source": [
        "plt.scatter (x[y_pred == 0,0],x[y_pred == 0,1] ,s = 100, c='r', label = 'Cluster 1')\n",
        "plt.scatter (x[y_pred == 1,0],x[y_pred == 1,1] ,s = 100, c='b', label = 'Cluster 2')\n",
        "plt.show()\n"
      ]
    },
    {
      "cell_type": "code",
      "execution_count": null,
      "id": "e4129548",
      "metadata": {
        "id": "e4129548",
        "outputId": "971960a9-7146-4947-fcb2-75055a985157"
      },
      "outputs": [
        {
          "name": "stdout",
          "output_type": "stream",
          "text": [
            "[0 0 0 0 0 0 0 1 1 0 0 0 0 0 0 0 0 1 0 0 1 1 1 1 1 1 0 1 0 0 0 1 0 0 1 0 0\n",
            " 0 0 0 0 0 0 0 1 0 0 0 0 1 0 1 0 0 0 0 0 0 0 0 0 0 0 1 0 0 0 0 0 0 0 1 1 1\n",
            " 1 1 1 0 0 0 0 1 0 0 1 0 0 0 0 0 1 0 0 0 0 0 0 0 0 1 0 0 1 0 1 0 0 0 0 0 1\n",
            " 1 0 0 0 0 0 1 0 1 0 0 1 1 0 1 0 0 1 0 0 0 0 0 0 0 0 0 0 1 0 0 0 0 0 0 0 0\n",
            " 0 0 0 0 0 0 1 0 0 1 0 0 1 1 1 0 0 0 0 1 0 0 0 1 0 0 0 0 0 0 0 0 0 0 0 0 0\n",
            " 1 0 0 0 1 0 0 0 0 0 0 0 0 0 0 0 0 0 0 0 0 0 0 0 0 0 0 1 0 0 1 0 0 0 1 0 0\n",
            " 0 0 0 0 1 1 0 1 1 1 1 0 0 0 0 0 0 0 0 0 1 0 0 1 0 1 0 1 0 0 1 0 0 0 0 0 0\n",
            " 0 0 1 1 0 0 0 0 0 1 0 1 0 0 1 0 0 1 0 0 0 1 1 0 1 0 1 1 1 1 0 1 0 1 0 0 0\n",
            " 1 0 0 1 0 1 0 0 1 0 0 1 1 1 0 1 1 1 0 0 0 0 1 0 1 0 0 0 0 0 1 0 0 0 0 0 0\n",
            " 0 0 0 0 0 0 0 0 0 0 0 0 0 1 1 0 0 0 0 0 0 1 1 1 0 0 0 0 1 1 0 0 0 0 0 0 0\n",
            " 1 0 0 1 1 0 0 0 0 0 0 1 1 0 0 1 0 0 1 0 0 0 0 1 0 0 1 0 0 0]\n"
          ]
        }
      ],
      "source": [
        "from sklearn.neighbors import KNeighborsClassifier\n",
        "KNN5= KNeighborsClassifier(n_neighbors =5 , metric = 'minkowski', p= 1)\n",
        "KNN5.fit(x_train,y_train)\n",
        "y_pred5 = KNN5.predict(x)\n",
        "print (y_pred5)\n"
      ]
    },
    {
      "cell_type": "code",
      "execution_count": null,
      "id": "dfa08337",
      "metadata": {
        "id": "dfa08337",
        "outputId": "79389005-5428-4b62-bcd9-90b6c5283547"
      },
      "outputs": [
        {
          "name": "stdout",
          "output_type": "stream",
          "text": [
            "0.6775\n"
          ]
        }
      ],
      "source": [
        "accuracy = accuracy_score (y,y_pred5)\n",
        "print (accuracy)\n"
      ]
    },
    {
      "cell_type": "code",
      "execution_count": null,
      "id": "b71f8fa7",
      "metadata": {
        "id": "b71f8fa7",
        "outputId": "b8c428d9-bc13-44cb-dd98-088779208d77"
      },
      "outputs": [
        {
          "name": "stdout",
          "output_type": "stream",
          "text": [
            "[[212  45]\n",
            " [ 84  59]]\n"
          ]
        }
      ],
      "source": [
        "\n",
        "cm = confusion_matrix (y,y_pred5)\n",
        "print (cm)\n"
      ]
    },
    {
      "cell_type": "code",
      "execution_count": null,
      "id": "c2f9d554",
      "metadata": {
        "id": "c2f9d554",
        "outputId": "efa2f8d0-bdb7-40de-ae5a-e49ba2d71935"
      },
      "outputs": [
        {
          "name": "stdout",
          "output_type": "stream",
          "text": [
            "              precision    recall  f1-score   support\n",
            "\n",
            "           0       0.72      0.82      0.77       257\n",
            "           1       0.57      0.41      0.48       143\n",
            "\n",
            "    accuracy                           0.68       400\n",
            "   macro avg       0.64      0.62      0.62       400\n",
            "weighted avg       0.66      0.68      0.66       400\n",
            "\n"
          ]
        }
      ],
      "source": [
        "from sklearn.metrics import classification_report\n",
        "print(classification_report (y,y_pred5, zero_division=0))\n"
      ]
    },
    {
      "cell_type": "code",
      "execution_count": null,
      "id": "f715c656",
      "metadata": {
        "id": "f715c656",
        "outputId": "8e772902-b979-4c35-94e9-b14dcd4d0c37"
      },
      "outputs": [
        {
          "data": {
            "image/png": "[encoded data removed]",
            "text/plain": [
              "<Figure size 640x480 with 1 Axes>"
            ]
          },
          "metadata": {},
          "output_type": "display_data"
        }
      ],
      "source": [
        "plt.scatter (x[y_pred5 == 0,0],x[y_pred5== 0,1] ,s = 100, c='r', label = 'Cluster 1')\n",
        "plt.scatter (x[y_pred5 == 1,0],x[y_pred5 == 1,1] ,s = 100, c='b', label = 'Cluster 2')\n",
        "plt.show()\n"
      ]
    },
    {
      "cell_type": "code",
      "execution_count": null,
      "id": "84c6c6e9",
      "metadata": {},
      "outputs": [],
      "source": []
    }
  ],
  "metadata": {
    "colab": {
      "provenance": []
    },
    "kernelspec": {
      "display_name": "Python 3 (ipykernel)",
      "language": "python",
      "name": "python3"
    },
    "language_info": {
      "codemirror_mode": {
        "name": "ipython",
        "version": 3
      },
      "file_extension": ".py",
      "mimetype": "text/x-python",
      "name": "python",
      "nbconvert_exporter": "python",
      "pygments_lexer": "ipython3",
      "version": "3.9.15"
    }
  },
  "nbformat": 4,
  "nbformat_minor": 5
}
